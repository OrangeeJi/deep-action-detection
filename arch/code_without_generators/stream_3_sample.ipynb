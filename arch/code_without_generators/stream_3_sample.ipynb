{
 "cells": [
  {
   "cell_type": "code",
   "execution_count": null,
   "metadata": {},
   "outputs": [],
   "source": [
    "import tensorflow as tf\n",
    "import utils\n",
    "from stream_2_model import TwoStreamModel\n",
    "from stream_2_data import get_AVA_classes, load_sample"
   ]
  },
  {
   "cell_type": "code",
   "execution_count": null,
   "metadata": {},
   "outputs": [],
   "source": [
    "segment = \"GozLjpMNADg_1623.avi\" # AVA segment for testing"
   ]
  },
  {
   "cell_type": "code",
   "execution_count": null,
   "metadata": {},
   "outputs": [],
   "source": [
    "# Extract BB's (if not done already, otherwise load them here)"
   ]
  },
  {
   "cell_type": "code",
   "execution_count": null,
   "metadata": {},
   "outputs": [],
   "source": [
    "# Extract flow"
   ]
  },
  {
   "cell_type": "code",
   "execution_count": null,
   "metadata": {},
   "outputs": [],
   "source": [
    "# Extract filtered rgbs (gaussian, crop, fovea)"
   ]
  },
  {
   "cell_type": "code",
   "execution_count": null,
   "metadata": {},
   "outputs": [],
   "source": [
    "# Load list of action classes\n",
    "root_dir = '../../data/AVA/files/'\n",
    "classes = utils.get_AVA_classes(root_dir + 'ava_action_list_custom.csv')"
   ]
  },
  {
   "cell_type": "code",
   "execution_count": null,
   "metadata": {},
   "outputs": [],
   "source": [
    "# Create + compile model, load saved weights if they exist\n",
    "rgb_weights = \"models/rgb_resnet50_1805290059.hdf5\"\n",
    "flow_weights = \"models/flow_resnet50_1805290120.hdf5\"\n",
    "nsmodel = TwoStreamModel(classes['label_id'], rgb_weights, flow_weights)\n",
    "nsmodel.compile_model(soft_sigmoid=True)\n",
    "model = nsmodel.model\n",
    "\n",
    "rgb_dir = \"/media/pedro/actv-ssd/foveated_\" + params['gen_type'] + \"_gc/\"\n",
    "flow_dir = \"test/flow/actv-ssd/flow_\" + params['gen_type']\n",
    "\n",
    "batch_size = 32\n",
    "with tf.device('/gpu:0'):\n",
    "    x_rgb, x_flow = load_sample(sampleIDS, (224, 224), rgb_dir, flow_dir)\n",
    "    prediction = model.predict([x_rgb, x_flow], batch_size=batch_size, verbose=1)\n",
    "    # TODO Convert predictions to readable output and perform majority voting"
   ]
  }
 ],
 "metadata": {
  "kernelspec": {
   "display_name": "Python 2",
   "language": "python",
   "name": "python2"
  },
  "language_info": {
   "codemirror_mode": {
    "name": "ipython",
    "version": 3
   },
   "file_extension": ".py",
   "mimetype": "text/x-python",
   "name": "python",
   "nbconvert_exporter": "python",
   "pygments_lexer": "ipython3",
   "version": "3.5.2"
  }
 },
 "nbformat": 4,
 "nbformat_minor": 2
}
